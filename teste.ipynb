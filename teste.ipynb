{
 "cells": [
  {
   "cell_type": "code",
   "execution_count": 4,
   "metadata": {},
   "outputs": [],
   "source": [
    "import tkinter as tk\n",
    "from tkinter import messagebox\n",
    "import random\n",
    "\n",
    "root = tk.Tk()\n",
    "root.title('Aceitas?')\n",
    "root.geometry('600x600')\n",
    "root.configure(background=\"#ffc8dd\")\n",
    "\n",
    "def move_button_i(e):\n",
    "    if button_1.winfo_exists(): \n",
    "        if abs(e.x - button_1.winfo_x()) < 50 and abs(e.y - button_1.winfo_y()) < 40:\n",
    "            x = random.randint(0, root.winfo_width() - button_1.winfo_width())\n",
    "            y = random.randint(0, root.winfo_height() - button_1.winfo_height())\n",
    "            button_1.place(x=x, y=y)\n",
    "\n",
    "def accepted():\n",
    "    messagebox.showinfo('Meu amor', 'Eu te amo meu amor, lanchinho mais tarde?')\n",
    "\n",
    "def denied():\n",
    "    button_1.destroy()\n",
    "\n",
    "margin = tk.Canvas(root, width=500, bg='#ffc8dd', height=100, bd=0, highlightthickness=0, relief='ridge')\n",
    "margin.pack()\n",
    "\n",
    "text_id = tk.Label(root, bd=0, text='Quer namorar comigo?', fg='#590d22', font=('Montserrat', 24, 'bold'))\n",
    "text_id.pack()\n",
    "\n",
    "button_1 = tk.Button(root, text='Não', bg='#ffb3c1', command=denied, relief='ridge', bd=3, font=('Montserrat', 8, 'bold'))\n",
    "button_1.pack()\n",
    "root.bind('<Motion>', move_button_i)\n",
    "\n",
    "button_2 = tk.Button(root, text='Sim', bg='#ffb3c1', relief='ridge', bd=3, command=accepted, font=('Montserrat', 14, 'bold'))\n",
    "button_2.pack()\n",
    "\n",
    "root.mainloop()\n"
   ]
  }
 ],
 "metadata": {
  "kernelspec": {
   "display_name": "Python 3",
   "language": "python",
   "name": "python3"
  },
  "language_info": {
   "codemirror_mode": {
    "name": "ipython",
    "version": 3
   },
   "file_extension": ".py",
   "mimetype": "text/x-python",
   "name": "python",
   "nbconvert_exporter": "python",
   "pygments_lexer": "ipython3",
   "version": "3.7.9"
  },
  "orig_nbformat": 4
 },
 "nbformat": 4,
 "nbformat_minor": 2
}
